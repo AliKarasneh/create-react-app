{
  "nbformat": 4,
  "nbformat_minor": 0,
  "metadata": {
    "colab": {
      "name": "Untitled2.ipynb",
      "provenance": [],
      "authorship_tag": "ABX9TyMDVsw+K9fGEcJHaW8blVS/",
      "include_colab_link": true
    },
    "kernelspec": {
      "name": "python3",
      "display_name": "Python 3"
    },
    "language_info": {
      "name": "python"
    }
  },
  "cells": [
    {
      "cell_type": "markdown",
      "metadata": {
        "id": "view-in-github",
        "colab_type": "text"
      },
      "source": [
        "<a href=\"https://colab.research.google.com/github/AliKarasneh/create-react-app/blob/master/TwitterSentimentAnalysis.ipynb\" target=\"_parent\"><img src=\"https://colab.research.google.com/assets/colab-badge.svg\" alt=\"Open In Colab\"/></a>"
      ]
    },
    {
      "cell_type": "code",
      "metadata": {
        "colab": {
          "base_uri": "https://localhost:8080/"
        },
        "id": "_U9SGjtXxvZ4",
        "outputId": "68d3f04d-90df-4820-b206-7b1b65ee2217"
      },
      "source": [
        "!pip install langdetect\n"
      ],
      "execution_count": 2,
      "outputs": [
        {
          "output_type": "stream",
          "text": [
            "Collecting langdetect\n",
            "  Downloading langdetect-1.0.9.tar.gz (981 kB)\n",
            "\u001b[?25l\r\u001b[K     |▍                               | 10 kB 23.3 MB/s eta 0:00:01\r\u001b[K     |▊                               | 20 kB 28.2 MB/s eta 0:00:01\r\u001b[K     |█                               | 30 kB 21.4 MB/s eta 0:00:01\r\u001b[K     |█▍                              | 40 kB 17.1 MB/s eta 0:00:01\r\u001b[K     |█▊                              | 51 kB 8.5 MB/s eta 0:00:01\r\u001b[K     |██                              | 61 kB 8.0 MB/s eta 0:00:01\r\u001b[K     |██▍                             | 71 kB 8.3 MB/s eta 0:00:01\r\u001b[K     |██▊                             | 81 kB 9.3 MB/s eta 0:00:01\r\u001b[K     |███                             | 92 kB 7.1 MB/s eta 0:00:01\r\u001b[K     |███▍                            | 102 kB 7.7 MB/s eta 0:00:01\r\u001b[K     |███▊                            | 112 kB 7.7 MB/s eta 0:00:01\r\u001b[K     |████                            | 122 kB 7.7 MB/s eta 0:00:01\r\u001b[K     |████▍                           | 133 kB 7.7 MB/s eta 0:00:01\r\u001b[K     |████▊                           | 143 kB 7.7 MB/s eta 0:00:01\r\u001b[K     |█████                           | 153 kB 7.7 MB/s eta 0:00:01\r\u001b[K     |█████▍                          | 163 kB 7.7 MB/s eta 0:00:01\r\u001b[K     |█████▊                          | 174 kB 7.7 MB/s eta 0:00:01\r\u001b[K     |██████                          | 184 kB 7.7 MB/s eta 0:00:01\r\u001b[K     |██████▍                         | 194 kB 7.7 MB/s eta 0:00:01\r\u001b[K     |██████▊                         | 204 kB 7.7 MB/s eta 0:00:01\r\u001b[K     |███████                         | 215 kB 7.7 MB/s eta 0:00:01\r\u001b[K     |███████▍                        | 225 kB 7.7 MB/s eta 0:00:01\r\u001b[K     |███████▊                        | 235 kB 7.7 MB/s eta 0:00:01\r\u001b[K     |████████                        | 245 kB 7.7 MB/s eta 0:00:01\r\u001b[K     |████████▍                       | 256 kB 7.7 MB/s eta 0:00:01\r\u001b[K     |████████▊                       | 266 kB 7.7 MB/s eta 0:00:01\r\u001b[K     |█████████                       | 276 kB 7.7 MB/s eta 0:00:01\r\u001b[K     |█████████▍                      | 286 kB 7.7 MB/s eta 0:00:01\r\u001b[K     |█████████▊                      | 296 kB 7.7 MB/s eta 0:00:01\r\u001b[K     |██████████                      | 307 kB 7.7 MB/s eta 0:00:01\r\u001b[K     |██████████▍                     | 317 kB 7.7 MB/s eta 0:00:01\r\u001b[K     |██████████▊                     | 327 kB 7.7 MB/s eta 0:00:01\r\u001b[K     |███████████                     | 337 kB 7.7 MB/s eta 0:00:01\r\u001b[K     |███████████▍                    | 348 kB 7.7 MB/s eta 0:00:01\r\u001b[K     |███████████▊                    | 358 kB 7.7 MB/s eta 0:00:01\r\u001b[K     |████████████                    | 368 kB 7.7 MB/s eta 0:00:01\r\u001b[K     |████████████▍                   | 378 kB 7.7 MB/s eta 0:00:01\r\u001b[K     |████████████▊                   | 389 kB 7.7 MB/s eta 0:00:01\r\u001b[K     |█████████████                   | 399 kB 7.7 MB/s eta 0:00:01\r\u001b[K     |█████████████▍                  | 409 kB 7.7 MB/s eta 0:00:01\r\u001b[K     |█████████████▊                  | 419 kB 7.7 MB/s eta 0:00:01\r\u001b[K     |██████████████                  | 430 kB 7.7 MB/s eta 0:00:01\r\u001b[K     |██████████████▍                 | 440 kB 7.7 MB/s eta 0:00:01\r\u001b[K     |██████████████▊                 | 450 kB 7.7 MB/s eta 0:00:01\r\u001b[K     |███████████████                 | 460 kB 7.7 MB/s eta 0:00:01\r\u001b[K     |███████████████▍                | 471 kB 7.7 MB/s eta 0:00:01\r\u001b[K     |███████████████▊                | 481 kB 7.7 MB/s eta 0:00:01\r\u001b[K     |████████████████                | 491 kB 7.7 MB/s eta 0:00:01\r\u001b[K     |████████████████▍               | 501 kB 7.7 MB/s eta 0:00:01\r\u001b[K     |████████████████▊               | 512 kB 7.7 MB/s eta 0:00:01\r\u001b[K     |█████████████████               | 522 kB 7.7 MB/s eta 0:00:01\r\u001b[K     |█████████████████▍              | 532 kB 7.7 MB/s eta 0:00:01\r\u001b[K     |█████████████████▊              | 542 kB 7.7 MB/s eta 0:00:01\r\u001b[K     |██████████████████              | 552 kB 7.7 MB/s eta 0:00:01\r\u001b[K     |██████████████████▍             | 563 kB 7.7 MB/s eta 0:00:01\r\u001b[K     |██████████████████▊             | 573 kB 7.7 MB/s eta 0:00:01\r\u001b[K     |███████████████████             | 583 kB 7.7 MB/s eta 0:00:01\r\u001b[K     |███████████████████▍            | 593 kB 7.7 MB/s eta 0:00:01\r\u001b[K     |███████████████████▊            | 604 kB 7.7 MB/s eta 0:00:01\r\u001b[K     |████████████████████            | 614 kB 7.7 MB/s eta 0:00:01\r\u001b[K     |████████████████████▍           | 624 kB 7.7 MB/s eta 0:00:01\r\u001b[K     |████████████████████▊           | 634 kB 7.7 MB/s eta 0:00:01\r\u001b[K     |█████████████████████           | 645 kB 7.7 MB/s eta 0:00:01\r\u001b[K     |█████████████████████▍          | 655 kB 7.7 MB/s eta 0:00:01\r\u001b[K     |█████████████████████▊          | 665 kB 7.7 MB/s eta 0:00:01\r\u001b[K     |██████████████████████          | 675 kB 7.7 MB/s eta 0:00:01\r\u001b[K     |██████████████████████▍         | 686 kB 7.7 MB/s eta 0:00:01\r\u001b[K     |██████████████████████▊         | 696 kB 7.7 MB/s eta 0:00:01\r\u001b[K     |███████████████████████         | 706 kB 7.7 MB/s eta 0:00:01\r\u001b[K     |███████████████████████▍        | 716 kB 7.7 MB/s eta 0:00:01\r\u001b[K     |███████████████████████▊        | 727 kB 7.7 MB/s eta 0:00:01\r\u001b[K     |████████████████████████        | 737 kB 7.7 MB/s eta 0:00:01\r\u001b[K     |████████████████████████▍       | 747 kB 7.7 MB/s eta 0:00:01\r\u001b[K     |████████████████████████▊       | 757 kB 7.7 MB/s eta 0:00:01\r\u001b[K     |█████████████████████████       | 768 kB 7.7 MB/s eta 0:00:01\r\u001b[K     |█████████████████████████▍      | 778 kB 7.7 MB/s eta 0:00:01\r\u001b[K     |█████████████████████████▊      | 788 kB 7.7 MB/s eta 0:00:01\r\u001b[K     |██████████████████████████      | 798 kB 7.7 MB/s eta 0:00:01\r\u001b[K     |██████████████████████████▍     | 808 kB 7.7 MB/s eta 0:00:01\r\u001b[K     |██████████████████████████▊     | 819 kB 7.7 MB/s eta 0:00:01\r\u001b[K     |███████████████████████████     | 829 kB 7.7 MB/s eta 0:00:01\r\u001b[K     |███████████████████████████▍    | 839 kB 7.7 MB/s eta 0:00:01\r\u001b[K     |███████████████████████████▊    | 849 kB 7.7 MB/s eta 0:00:01\r\u001b[K     |████████████████████████████    | 860 kB 7.7 MB/s eta 0:00:01\r\u001b[K     |████████████████████████████▍   | 870 kB 7.7 MB/s eta 0:00:01\r\u001b[K     |████████████████████████████▊   | 880 kB 7.7 MB/s eta 0:00:01\r\u001b[K     |█████████████████████████████   | 890 kB 7.7 MB/s eta 0:00:01\r\u001b[K     |█████████████████████████████▍  | 901 kB 7.7 MB/s eta 0:00:01\r\u001b[K     |█████████████████████████████▊  | 911 kB 7.7 MB/s eta 0:00:01\r\u001b[K     |██████████████████████████████  | 921 kB 7.7 MB/s eta 0:00:01\r\u001b[K     |██████████████████████████████▍ | 931 kB 7.7 MB/s eta 0:00:01\r\u001b[K     |██████████████████████████████▊ | 942 kB 7.7 MB/s eta 0:00:01\r\u001b[K     |███████████████████████████████ | 952 kB 7.7 MB/s eta 0:00:01\r\u001b[K     |███████████████████████████████▍| 962 kB 7.7 MB/s eta 0:00:01\r\u001b[K     |███████████████████████████████▊| 972 kB 7.7 MB/s eta 0:00:01\r\u001b[K     |████████████████████████████████| 981 kB 7.7 MB/s \n",
            "\u001b[?25hRequirement already satisfied: six in /usr/local/lib/python3.7/dist-packages (from langdetect) (1.15.0)\n",
            "Building wheels for collected packages: langdetect\n",
            "  Building wheel for langdetect (setup.py) ... \u001b[?25l\u001b[?25hdone\n",
            "  Created wheel for langdetect: filename=langdetect-1.0.9-py3-none-any.whl size=993241 sha256=1b6a5f48a643fb0574494a0696bca180fa4035e6c0c53a883b58fcfc8e69be54\n",
            "  Stored in directory: /root/.cache/pip/wheels/c5/96/8a/f90c59ed25d75e50a8c10a1b1c2d4c402e4dacfa87f3aff36a\n",
            "Successfully built langdetect\n",
            "Installing collected packages: langdetect\n",
            "Successfully installed langdetect-1.0.9\n"
          ],
          "name": "stdout"
        }
      ]
    },
    {
      "cell_type": "code",
      "metadata": {
        "colab": {
          "base_uri": "https://localhost:8080/"
        },
        "id": "Oza2cI9Xx3o3",
        "outputId": "5443621e-1817-44b0-f886-b95acf8e4877"
      },
      "source": [
        "!pip install tweepy"
      ],
      "execution_count": 7,
      "outputs": [
        {
          "output_type": "stream",
          "text": [
            "Requirement already satisfied: tweepy in /usr/local/lib/python3.7/dist-packages (3.10.0)\n",
            "Requirement already satisfied: six>=1.10.0 in /usr/local/lib/python3.7/dist-packages (from tweepy) (1.15.0)\n",
            "Requirement already satisfied: requests[socks]>=2.11.1 in /usr/local/lib/python3.7/dist-packages (from tweepy) (2.23.0)\n",
            "Requirement already satisfied: requests-oauthlib>=0.7.0 in /usr/local/lib/python3.7/dist-packages (from tweepy) (1.3.0)\n",
            "Requirement already satisfied: oauthlib>=3.0.0 in /usr/local/lib/python3.7/dist-packages (from requests-oauthlib>=0.7.0->tweepy) (3.1.1)\n",
            "Requirement already satisfied: idna<3,>=2.5 in /usr/local/lib/python3.7/dist-packages (from requests[socks]>=2.11.1->tweepy) (2.10)\n",
            "Requirement already satisfied: certifi>=2017.4.17 in /usr/local/lib/python3.7/dist-packages (from requests[socks]>=2.11.1->tweepy) (2021.5.30)\n",
            "Requirement already satisfied: urllib3!=1.25.0,!=1.25.1,<1.26,>=1.21.1 in /usr/local/lib/python3.7/dist-packages (from requests[socks]>=2.11.1->tweepy) (1.24.3)\n",
            "Requirement already satisfied: chardet<4,>=3.0.2 in /usr/local/lib/python3.7/dist-packages (from requests[socks]>=2.11.1->tweepy) (3.0.4)\n",
            "Requirement already satisfied: PySocks!=1.5.7,>=1.5.6 in /usr/local/lib/python3.7/dist-packages (from requests[socks]>=2.11.1->tweepy) (1.7.1)\n"
          ],
          "name": "stdout"
        }
      ]
    },
    {
      "cell_type": "code",
      "metadata": {
        "id": "_i6h94amxVn4"
      },
      "source": [
        "from PIL import Image\n",
        "from nltk.sentiment.vader import SentimentIntensityAnalyzer\n",
        "from langdetect import detect\n",
        "from nltk.stem import SnowballStemmer\n",
        "from nltk.sentiment.vader import SentimentIntensityAnalyzer\n",
        "from sklearn.feature_extraction.text import CountVectorizer\n",
        "import tweepy\n",
        "from textblob import TextBlob\n",
        "import nltk\n",
        "import pandas as pd\n",
        "from matplotlib import pyplot as plt\n",
        "\n",
        "\n",
        "# Authentication\n",
        "consumerKey = 'rZms1g0HlFHDxlUmTbMV20vFk'\n",
        "consumerSecret = '8ZygdjdRd0YdKXTvIvh07fD2SwCp1hFhnLNcM5qgD6GZ1dl02Q'\n",
        "accessToken = '176112318-wVeHbbHx6A8wxgrJBHoLgVFitlUjzsqfe5OfSOcL'\n",
        "accessTokenSecret = 'UMPsVRWULXSVEWKouANKjf1cmiIjLatwdCUUNQs5tXUm9'\n",
        "auth = tweepy.OAuthHandler(consumerKey, consumerSecret)\n",
        "auth.set_access_token(accessToken, accessTokenSecret)\n",
        "api = tweepy.API(auth)"
      ],
      "execution_count": 22,
      "outputs": []
    },
    {
      "cell_type": "code",
      "metadata": {
        "colab": {
          "base_uri": "https://localhost:8080/",
          "height": 733
        },
        "id": "uNz6-JXHnUth",
        "outputId": "b90f2852-8a35-4bd1-ab83-e59dcfbd08c9"
      },
      "source": [
        "#Sentiment Analysis\n",
        "def percentage(part,whole):\n",
        " return 100 * float(part)/float(whole)\n",
        "keyword = input('Please enter keyword or hashtag to search: ')\n",
        "noOfTweet = int(input ('Please enter how many tweets to analyze: '))\n",
        "tweets = tweepy.Cursor(api.search, q=keyword).items(noOfTweet)\n",
        "positive = 0\n",
        "negative = 0\n",
        "neutral = 0\n",
        "polarity = 0\n",
        "tweet_list = []\n",
        "neutral_list = []\n",
        "negative_list = []\n",
        "positive_list = []\n",
        "for tweet in tweets:\n",
        " nltk.download('vader_lexicon')\n",
        " #nltk.download()\n",
        " #print(tweet.text)\n",
        " tweet_list.append(tweet.text)\n",
        " analysis = TextBlob(tweet.text)\n",
        " score = SentimentIntensityAnalyzer().polarity_scores(tweet.text)\n",
        " neg = score['neg']\n",
        " neu = score['neu']\n",
        " pos = score['pos']\n",
        " comp = score['compound']\n",
        " polarity += analysis.sentiment.polarity\n",
        " \n",
        "if neg > pos:\n",
        "  negative_list.append(tweet.text)\n",
        "  negative += 1\n",
        "\n",
        "elif pos > neg:\n",
        "  positive_list.append(tweet.text)\n",
        "  positive += 1\n",
        "\n",
        "elif pos == neg:\n",
        " neutral_list.append(tweet.text)\n",
        " neutral += 1\n",
        "positive = percentage(positive, noOfTweet)\n",
        "negative = percentage(negative, noOfTweet)\n",
        "neutral = percentage(neutral, noOfTweet)\n",
        "polarity = percentage(polarity, noOfTweet)\n",
        "positive = format(positive, '.1f')\n",
        "negative = format(negative, '.1f')\n",
        "neutral = format(neutral, '.1f')\n",
        "\n",
        "#Number of Tweets (Total, Positive, Negative, Neutral)\n",
        "tweet_list = pd.DataFrame(tweet_list)\n",
        "neutral_list = pd.DataFrame(neutral_list)\n",
        "negative_list = pd.DataFrame(negative_list)\n",
        "positive_list = pd.DataFrame(positive_list)\n",
        "print('total number: ',len(tweet_list))\n",
        "print('positive number :',len(positive_list))\n",
        "print('negative number: ', len(negative_list))\n",
        "print('neutral number: ',len(neutral_list))\n",
        "\n",
        "#Creating PieCart\n",
        "labels = ['Positive ['+str(positive)+'%]' , 'Neutral ['+str(neutral)+'%]','Negative ['+str(negative)+'%]']\n",
        "sizes = [positive, neutral, negative]\n",
        "colors = ['yellowgreen', 'blue','red']\n",
        "patches, texts = plt.pie(sizes,colors=colors, startangle=90)\n",
        "plt.style.use('default')\n",
        "plt.legend(labels)\n",
        "plt.title('Sentiment Analysis Result for keyword= '+keyword+'' )\n",
        "plt.axis('equal')\n",
        "plt.show()\n",
        "tweet_list"
      ],
      "execution_count": 23,
      "outputs": [
        {
          "output_type": "stream",
          "text": [
            "Please enter keyword or hashtag to search: tesla\n",
            "Please enter how many tweets to analyze: 5\n",
            "[nltk_data] Downloading package vader_lexicon to /root/nltk_data...\n",
            "[nltk_data]   Package vader_lexicon is already up-to-date!\n",
            "[nltk_data] Downloading package vader_lexicon to /root/nltk_data...\n",
            "[nltk_data]   Package vader_lexicon is already up-to-date!\n",
            "[nltk_data] Downloading package vader_lexicon to /root/nltk_data...\n",
            "[nltk_data]   Package vader_lexicon is already up-to-date!\n",
            "[nltk_data] Downloading package vader_lexicon to /root/nltk_data...\n",
            "[nltk_data]   Package vader_lexicon is already up-to-date!\n",
            "[nltk_data] Downloading package vader_lexicon to /root/nltk_data...\n",
            "[nltk_data]   Package vader_lexicon is already up-to-date!\n",
            "total number:  5\n",
            "positive number : 0\n",
            "negative number:  0\n",
            "neutral number:  1\n"
          ],
          "name": "stdout"
        },
        {
          "output_type": "display_data",
          "data": {
            "image/png": "[encoded data removed]",
            "text/plain": [
              "<Figure size 432x288 with 1 Axes>"
            ]
          },
          "metadata": {
            "tags": []
          }
        },
        {
          "output_type": "execute_result",
          "data": {
            "text/html": [
              "<div>\n",
              "<style scoped>\n",
              "    .dataframe tbody tr th:only-of-type {\n",
              "        vertical-align: middle;\n",
              "    }\n",
              "\n",
              "    .dataframe tbody tr th {\n",
              "        vertical-align: top;\n",
              "    }\n",
              "\n",
              "    .dataframe thead th {\n",
              "        text-align: right;\n",
              "    }\n",
              "</style>\n",
              "<table border=\"1\" class=\"dataframe\">\n",
              "  <thead>\n",
              "    <tr style=\"text-align: right;\">\n",
              "      <th></th>\n",
              "      <th>0</th>\n",
              "    </tr>\n",
              "  </thead>\n",
              "  <tbody>\n",
              "    <tr>\n",
              "      <th>0</th>\n",
              "      <td>RT @teslaownersSV: 2013-2020 Car company valua...</td>\n",
              "    </tr>\n",
              "    <tr>\n",
              "      <th>1</th>\n",
              "      <td>RT @kiwithesmol: “gUaRaNtEe yOu CoUld bUy a tE...</td>\n",
              "    </tr>\n",
              "    <tr>\n",
              "      <th>2</th>\n",
              "      <td>RT @AustinTeslaClub: Wow, Giga Shanghai is abs...</td>\n",
              "    </tr>\n",
              "    <tr>\n",
              "      <th>3</th>\n",
              "      <td>RT @KaplanBen_Fr: 3 jours pour éteindre l'#inc...</td>\n",
              "    </tr>\n",
              "    <tr>\n",
              "      <th>4</th>\n",
              "      <td>may tesla na pala pinsan ko, taih naul</td>\n",
              "    </tr>\n",
              "  </tbody>\n",
              "</table>\n",
              "</div>"
            ],
            "text/plain": [
              "                                                   0\n",
              "0  RT @teslaownersSV: 2013-2020 Car company valua...\n",
              "1  RT @kiwithesmol: “gUaRaNtEe yOu CoUld bUy a tE...\n",
              "2  RT @AustinTeslaClub: Wow, Giga Shanghai is abs...\n",
              "3  RT @KaplanBen_Fr: 3 jours pour éteindre l'#inc...\n",
              "4             may tesla na pala pinsan ko, taih naul"
            ]
          },
          "metadata": {
            "tags": []
          },
          "execution_count": 23
        }
      ]
    },
    {
      "cell_type": "code",
      "metadata": {
        "id": "yBf1askApEUM"
      },
      "source": [
        "\n"
      ],
      "execution_count": null,
      "outputs": []
    }
  ]
}